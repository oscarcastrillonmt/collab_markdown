{
  "nbformat": 4,
  "nbformat_minor": 0,
  "metadata": {
    "colab": {
      "name": "Ejercicio1_Markdown.ipynb",
      "provenance": [],
      "collapsed_sections": []
    },
    "kernelspec": {
      "name": "python3",
      "display_name": "Python 3"
    },
    "language_info": {
      "name": "python"
    }
  },
  "cells": [
    {
      "cell_type": "markdown",
      "source": [
        "# Bienvenido(a)"
      ],
      "metadata": {
        "id": "laEb5HyoIBoB"
      }
    },
    {
      "cell_type": "code",
      "execution_count": 4,
      "metadata": {
        "colab": {
          "base_uri": "https://localhost:8080/"
        },
        "id": "z93eiNBK-Qqt",
        "outputId": "206dc33d-29cf-49c4-99ce-49dd6e6d4865"
      },
      "outputs": [
        {
          "output_type": "stream",
          "name": "stdout",
          "text": [
            "Cual es tu nombre?\n",
            "Oscar\n",
            "Me alegro de conocerte, Oscar\n"
          ]
        }
      ],
      "source": [
        "print(f\"Cual es tu nombre?\")\n",
        "nombre = input()\n",
        "print(f\"Me alegro de conocerte, {nombre}\")"
      ]
    },
    {
      "cell_type": "markdown",
      "source": [
        "### Me llamo Oscar.\n",
        ">> #### Te contare algo sobre mi trabajo:\n",
        "\n",
        ">>> ###### Trabajo en una compañia partner de *Qlik*, un fabricante de software de BI, la compañia se llama ***GPStrategy***. [visita la página web](https://www.gpstrategy.com.co)\n",
        "\n",
        ">>> los productos insignia de Qlik son *Qlik View* y *Qlik Sense*, a continuación veremos algunas diferencias:"
      ],
      "metadata": {
        "id": "cgNsV3UZQDQL"
      }
    },
    {
      "cell_type": "markdown",
      "source": [
        "|**Qlik View**|**Qlik Sense**|\n",
        "|:-|:-|\n",
        "|Analisis Guiado |Análisis de Autoservicio|\n",
        "|Entorno de desarrollo de scripts|Combina funcionalidad de desarrollo en <br> script y alternativas Low Code ( Arrastrar y soltar)|\n",
        "|Contiene mayor capacidad de parametrización sobre los objetos|Interfaz responsive, adaptable a cualquier dispositivo|"
      ],
      "metadata": {
        "id": "pwwhpzOHUhM8"
      }
    },
    {
      "cell_type": "markdown",
      "source": [
        "para mas información [visita la página web de Qlik](https://www.qlik.com)\n",
        "\n",
        "Gracias por visitarnos.\n",
        "\n",
        "[imagencasco]: https://i.imgur.com/b1kbwbR.gif \"Casco Astronauta\"\n",
        "\n",
        "![imagencasco]\n",
        "\n",
        "\n"
      ],
      "metadata": {
        "id": "vBnmq9NdbXdj"
      }
    }
  ]
}